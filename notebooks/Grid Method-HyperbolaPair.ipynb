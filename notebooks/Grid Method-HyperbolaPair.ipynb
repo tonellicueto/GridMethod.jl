{
 "cells": [
  {
   "cell_type": "markdown",
   "id": "c1ec1655-453b-4220-aaf3-6c55c1db24d6",
   "metadata": {},
   "source": [
    "With GridMethod.jl we can solve real polynomial systems....\n"
   ]
  },
  {
   "cell_type": "code",
   "execution_count": 1,
   "id": "dd0ffc9a-a19d-41e3-bd9f-76592a4725c1",
   "metadata": {},
   "outputs": [
    {
     "name": "stderr",
     "output_type": "stream",
     "text": [
      "\u001b[32m\u001b[1m   Resolving\u001b[22m\u001b[39m package versions...\n",
      "\u001b[32m\u001b[1m  No Changes\u001b[22m\u001b[39m to `~/Dropbox/GitHubGalois/GridMethod.jl/Project.toml`\n",
      "\u001b[32m\u001b[1m  No Changes\u001b[22m\u001b[39m to `~/Dropbox/GitHubGalois/GridMethod.jl/Manifest.toml`\n",
      "\u001b[32m\u001b[1m   Resolving\u001b[22m\u001b[39m package versions...\n",
      "\u001b[32m\u001b[1m  No Changes\u001b[22m\u001b[39m to `~/Dropbox/GitHubGalois/GridMethod.jl/Project.toml`\n",
      "\u001b[32m\u001b[1m  No Changes\u001b[22m\u001b[39m to `~/Dropbox/GitHubGalois/GridMethod.jl/Manifest.toml`\n"
     ]
    }
   ],
   "source": [
    "import Pkg\n",
    "Pkg.add(\"HomotopyContinuation\")\n",
    "Pkg.add(\"Plots\")"
   ]
  },
  {
   "cell_type": "code",
   "execution_count": 2,
   "id": "b43b8b46-206d-4566-b77f-4df690fade58",
   "metadata": {},
   "outputs": [
    {
     "data": {
      "text/plain": [
       "HomotopyContinuation.ModelKit"
      ]
     },
     "metadata": {},
     "output_type": "display_data"
    }
   ],
   "source": [
    "import HomotopyContinuation.ModelKit\n",
    "const HCMK = ModelKit"
   ]
  },
  {
   "cell_type": "code",
   "execution_count": 3,
   "id": "7724d7c7-0d22-45a3-917e-2b3880b8f736",
   "metadata": {},
   "outputs": [],
   "source": [
    "using .Iterators\n",
    "using Test\n",
    "using LinearAlgebra\n",
    "using GridMethod.NormsPolynomials\n",
    "using GridMethod.ConditionNumbers\n",
    "const CN = ConditionNumbers\n",
    "using GridMethod.GridModule\n",
    "using GridMethod.Han\n",
    "using GridMethod.Coordinates\n",
    "using GridMethod\n",
    "using HomotopyContinuation\n",
    "using Plots"
   ]
  },
  {
   "cell_type": "code",
   "execution_count": 4,
   "id": "be959027-5f10-4228-9419-fd9adcff6539",
   "metadata": {},
   "outputs": [],
   "source": [
    "using Plots\n",
    "\n",
    "function gridGroupByDepth(G::Grid{T, dim}) where {T, dim}\n",
    "    I = unique(sort(depth.(G)))\n",
    "    out = Dict(I .=> [empty(G) for _ in I ])\n",
    "    for g in G\n",
    "        d = depth(g)\n",
    "        push!(out[d], g)\n",
    "    end\n",
    "    return out\n",
    "end\n",
    "\n",
    "xyAxes(G) = eachrow(reduce(hcat, map(coordinates, gridnodes(G))))\n",
    "\n",
    "@recipe function f(G::Grid{Float64,2};\n",
    "                   r = 2,\n",
    "                   R = 20,\n",
    "                   f_ms = i -> r + R*(.5)^i, # Marker size\n",
    "                   f_ma = (d, dmin, dmax) -> (d - dmin + 1)/(dmax - dmin + 1), # Mark alpha/opacity\n",
    "                   f_msw = (d, dmin, dmax) -> r/10 + (1 - f_ma(d, dmin, dmax))/r, # Border width (0 = No border)\n",
    "                   color = \"rgb(238,37,35)\"\n",
    "                   )\n",
    "    Dict_depth = gridGroupByDepth(G)\n",
    "    I = sort!(collect(keys(Dict_depth))) # Sort it for the legend\n",
    "    if !isempty(Dict_depth)\n",
    "    dmin = first(I)\n",
    "    dmax = last(I)\n",
    "    else\n",
    "    dmin=0\n",
    "    dmax=0\n",
    "    end\n",
    "    # Set default values\n",
    "    # axis --> ([-1.1,1.1],)\n",
    "    ticks --> nothing\n",
    "    xaxis --> false\n",
    "    yaxis --> false\n",
    "    lims --> [-2,2]\n",
    "    aspect_ratio --> 1\n",
    "    legend --> :outerright\n",
    "    legendfontsize --> 10\n",
    "    thickness_scaling --> 1\n",
    "    shift = dmin -1\n",
    "    # Plot each depth group\n",
    "    for d in I\n",
    "        x, y = xyAxes(Dict_depth[d])\n",
    "        @series begin\n",
    "            seriestype := :scatter\n",
    "            label := \"Depth $d\"\n",
    "            # markershape := :circle\n",
    "            ms := f_ms(d - shift) # Mark size\n",
    "            mc := color # Mark color\n",
    "            ma := f_ma(d, dmin, dmax) # Mark alpha/opacity\n",
    "            msw := f_msw(d, dmin, dmax) # Border/stroke width\n",
    "            # msw := 0 # No border/stroke\n",
    "            msc := color # Border color\n",
    "            msa := f_ma(d, dmin, dmax)/r # Border alpha\n",
    "            x, y\n",
    "        end\n",
    "    end\n",
    "end"
   ]
  },
  {
   "cell_type": "code",
   "execution_count": 5,
   "id": "7c240dd7-6fbd-43e1-b928-3deb8a0dcdbd",
   "metadata": {},
   "outputs": [
    {
     "data": {
      "text/plain": [
       "_InclusionTest (generic function with 1 method)"
      ]
     },
     "metadata": {},
     "output_type": "display_data"
    }
   ],
   "source": [
    "function Exclusion!(\n",
    "    G::Grid{T, dim},\n",
    "    extraDepth::UInt,\n",
    "    degscaling::Vector{T};\n",
    "    scale::T = one(T),\n",
    "    nodeFilter=(node)->true,\n",
    "    _split=splitCoordinate\n",
    ") where {T, dim}\n",
    "    gridLock = ReentrantLock()\n",
    "    Threads.@threads for _ in 1:length(G)\n",
    "        node = nothing\n",
    "        lock(gridLock)\n",
    "        try\n",
    "            node = popfirst!(G)\n",
    "        finally\n",
    "            unlock(gridLock)\n",
    "        end\n",
    "        newNodes = []\n",
    "        if nodeFilter(node)\n",
    "            newDepth = depth(node)+extraDepth\n",
    "            cond=condition(node)\n",
    "            newCoordinates = _split(\n",
    "                coordinates(node),\n",
    "                newDepth;\n",
    "                depth=depth(node),\n",
    "                scale=scale,\n",
    "            )\n",
    "            for coord in newCoordinates\n",
    "                newNode = LazyGridNode(\n",
    "                    G,\n",
    "                    newDepth,\n",
    "                    coord,\n",
    "                    cond\n",
    "                )\n",
    "                if nodeFilter(newNode)\n",
    "                    if _ExclusionTest(newNode,degscaling)\n",
    "                    push!(newNodes,newNode)\n",
    "                    end\n",
    "                end\n",
    "            end\n",
    "        end\n",
    "        lock(gridLock)\n",
    "        try\n",
    "            append!(G,newNodes)\n",
    "        finally\n",
    "            unlock(gridLock)\n",
    "        end\n",
    "    end\n",
    "end\n",
    "\n",
    "function _ExclusionTest(node::GridNode{T, dim},degscaling::Vector{T}) where {T, dim}\n",
    "    return 2^depth(node)*maximum(abs.(node.image./degscaling))<=1.1\n",
    "end\n",
    "\n",
    "function Inclusion!(\n",
    "    G::Grid{T, dim},\n",
    "    extraDepth::UInt,\n",
    "    p::Real;\n",
    "    scale::T = one(T),\n",
    "    nodeFilter=(node)->true,\n",
    "    _split=splitCoordinate\n",
    ") where {T, dim}\n",
    "    gridLock = ReentrantLock()\n",
    "    Threads.@threads for _ in 1:length(G)\n",
    "        node = nothing\n",
    "        lock(gridLock)\n",
    "        try\n",
    "            node = popfirst!(G)\n",
    "        finally\n",
    "            unlock(gridLock)\n",
    "        end\n",
    "        newNodes = []\n",
    "        if nodeFilter(node)\n",
    "            newDepth = depth(node)+extraDepth\n",
    "            cond=condition(node)\n",
    "            newCoordinates = _split(\n",
    "                coordinates(node),\n",
    "                newDepth;\n",
    "                depth=depth(node),\n",
    "                scale=scale,\n",
    "            )\n",
    "            for coord in newCoordinates\n",
    "                newNode = LazyGridNode(\n",
    "                    G,\n",
    "                    newDepth,\n",
    "                    coord,\n",
    "                    cond\n",
    "                )\n",
    "                if nodeFilter(newNode)\n",
    "                    if _InclusionTest(newNode,p)\n",
    "                    push!(newNodes,newNode)\n",
    "                    end\n",
    "                end\n",
    "            end\n",
    "        end\n",
    "        lock(gridLock)\n",
    "        try\n",
    "            append!(G,newNodes)\n",
    "        finally\n",
    "            unlock(gridLock)\n",
    "        end\n",
    "    end\n",
    "end\n",
    "\n",
    "function _InclusionTest(node::GridNode{T, dim},p::Real) where {T, dim}\n",
    "    return norm(node.jacobian\\node.image,Inf)*node.condition<=0.25\n",
    "end"
   ]
  },
  {
   "cell_type": "code",
   "execution_count": 6,
   "id": "4deb5a81-0216-4a8d-ba8e-1f69500c319d",
   "metadata": {},
   "outputs": [
    {
     "data": {
      "text/plain": [
       "System of length 1\n",
       " 2 variables: x, y\n",
       "\n",
       " (0.3 + x*y)*(-0.1 + x*y)"
      ]
     },
     "metadata": {},
     "output_type": "display_data"
    }
   ],
   "source": [
    "HCMK.@var x,y\n",
    "polysys=HCMK.System([(x*y-0.1)*(x*y+0.3)];variables=[x,y])"
   ]
  },
  {
   "cell_type": "code",
   "execution_count": 7,
   "id": "c0bb0946",
   "metadata": {},
   "outputs": [
    {
     "data": {
      "text/plain": [
       "214.32974222056043"
      ]
     },
     "metadata": {},
     "output_type": "display_data"
    }
   ],
   "source": [
    "gridPolySys=GridSystem(polysys,PolyNorm1)\n",
    "degscaling=convert(Vector{Float64},gridPolySys.degrees)\n",
    "p=Inf\n",
    "grid = Grid{Float64, 2}(gridPolySys, [], nothing)\n",
    "gridHan!(grid,UInt(1);maxDepth=UInt(21))"
   ]
  },
  {
   "cell_type": "code",
   "execution_count": 8,
   "id": "02ac0f6c-fc8e-4142-a416-8dfdec3b1468",
   "metadata": {},
   "outputs": [
    {
     "data": {
      "text/plain": [
       "\"/Users/tonellicueto/Dropbox/GitHubGalois/GridMethod.jl/notebooks/fig0.pdf\""
      ]
     },
     "metadata": {},
     "output_type": "display_data"
    }
   ],
   "source": [
    "plot(grid)\n",
    "#savefig(\"fig0.pdf\")"
   ]
  },
  {
   "cell_type": "code",
   "execution_count": 9,
   "id": "96738e25",
   "metadata": {},
   "outputs": [],
   "source": []
  },
  {
   "cell_type": "code",
   "execution_count": 10,
   "id": "cd455fcf-2a05-4683-877e-897328a916c5",
   "metadata": {},
   "outputs": [
    {
     "data": {
      "text/plain": [
       "\"/Users/tonellicueto/Dropbox/GitHubGalois/GridMethod.jl/notebooks/fig1.pdf\""
      ]
     },
     "metadata": {},
     "output_type": "display_data"
    }
   ],
   "source": [
    "Exclusion!(grid,UInt(1),degscaling)\n",
    "plot(grid)\n",
    "#savefig(\"fig1.pdf\")"
   ]
  },
  {
   "cell_type": "code",
   "execution_count": 11,
   "id": "22674c14-2388-4509-ad82-dd7a0e7a9e17",
   "metadata": {},
   "outputs": [
    {
     "data": {
      "text/plain": [
       "\"/Users/tonellicueto/Dropbox/GitHubGalois/GridMethod.jl/notebooks/fig2.pdf\""
      ]
     },
     "metadata": {},
     "output_type": "display_data"
    }
   ],
   "source": [
    "Exclusion!(grid,UInt(1),degscaling)\n",
    "plot(grid)\n",
    "#savefig(\"fig2.pdf\")"
   ]
  },
  {
   "cell_type": "code",
   "execution_count": 12,
   "id": "1a7fff03-f34d-4895-b36c-496b68513d0a",
   "metadata": {},
   "outputs": [
    {
     "data": {
      "text/plain": [
       "\"/Users/tonellicueto/Dropbox/GitHubGalois/GridMethod.jl/notebooks/fig3.pdf\""
      ]
     },
     "metadata": {},
     "output_type": "display_data"
    }
   ],
   "source": [
    "Exclusion!(grid,UInt(1),degscaling)\n",
    "plot(grid)\n",
    "#savefig(\"fig3.pdf\")"
   ]
  },
  {
   "cell_type": "code",
   "execution_count": 13,
   "id": "e88cc756-c9bb-462e-bae7-7b01f8c7b545",
   "metadata": {},
   "outputs": [
    {
     "data": {
      "text/plain": [
       "\"/Users/tonellicueto/Dropbox/GitHubGalois/GridMethod.jl/notebooks/fig4.pdf\""
      ]
     },
     "metadata": {},
     "output_type": "display_data"
    }
   ],
   "source": [
    "Inclusion!(grid,UInt(1),p)\n",
    "plot(grid)\n",
    "#savefig(\"fig4.pdf\")"
   ]
  },
  {
   "cell_type": "code",
   "execution_count": 14,
   "id": "7479da03",
   "metadata": {},
   "outputs": [],
   "source": []
  }
 ],
 "metadata": {
  "kernelspec": {
   "display_name": "Julia 1.10.2",
   "language": "julia",
   "name": "julia-1.10"
  },
  "language_info": {
   "file_extension": ".jl",
   "mimetype": "application/julia",
   "name": "julia",
   "version": "1.10.2"
  }
 },
 "nbformat": 4,
 "nbformat_minor": 5
}
