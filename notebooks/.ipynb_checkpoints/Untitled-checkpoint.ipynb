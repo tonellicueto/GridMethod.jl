{
 "cells": [
  {
   "cell_type": "code",
   "execution_count": 2,
   "id": "d36fba0b-4785-47d1-ba9f-ff9f67679b10",
   "metadata": {},
   "outputs": [
    {
     "name": "stderr",
     "output_type": "stream",
     "text": [
      "\u001b[32m\u001b[1m   Resolving\u001b[22m\u001b[39m package versions...\n",
      "\u001b[32m\u001b[1m  No Changes\u001b[22m\u001b[39m to `~/Dropbox/GitHubGalois/GridMethod.jl/Project.toml`\n",
      "\u001b[32m\u001b[1m  No Changes\u001b[22m\u001b[39m to `~/Dropbox/GitHubGalois/GridMethod.jl/Manifest.toml`\n"
     ]
    }
   ],
   "source": [
    "import Pkg\n",
    "Pkg.add(\"HomotopyContinuation\")"
   ]
  },
  {
   "cell_type": "code",
   "execution_count": 3,
   "id": "5efd359b-4392-43a8-a770-753bd99128e0",
   "metadata": {},
   "outputs": [
    {
     "data": {
      "text/plain": [
       "HomotopyContinuation.ModelKit"
      ]
     },
     "execution_count": 3,
     "metadata": {},
     "output_type": "execute_result"
    }
   ],
   "source": [
    "import HomotopyContinuation.ModelKit\n",
    "const HCMK = ModelKit"
   ]
  },
  {
   "cell_type": "code",
   "execution_count": 23,
   "id": "51bf9175-b8db-4be9-a6aa-8900f490cdf0",
   "metadata": {},
   "outputs": [
    {
     "data": {
      "text/plain": [
       "_multinomial (generic function with 1 method)"
      ]
     },
     "execution_count": 23,
     "metadata": {},
     "output_type": "execute_result"
    }
   ],
   "source": [
    "function polyNorm1(p::HCMK.System)\n",
    "    return sum.(abs.(HCMK.coefficients(p,HCMK.variables(p))))\n",
    "end\n",
    "\n",
    "function PolyNormW(p::HCMK.System)\n",
    "    return sqrt(sum([\n",
    "        _multinomial(degree, monomials[i])*coefficients[i]^2\n",
    "        for i in eachindex(coefficients)\n",
    "    ]))\n",
    "end\n",
    "\n",
    "function _multinomial(numerator::Integer, denominators::Vector{S}) where S<:Integer\n",
    "    return factorial(numerator)/reduce(*,map(factorial,denominators))\n",
    "end"
   ]
  },
  {
   "cell_type": "code",
   "execution_count": 5,
   "id": "818b3aec-07a6-46a4-b885-bf99f70e1ab1",
   "metadata": {},
   "outputs": [
    {
     "data": {
      "text/plain": [
       "System of length 2\n",
       " 3 variables: x, y, z\n",
       "\n",
       " 0.0409221306756849*x*y^4 + 1.6128352950413*x*z^4 - 0.959589364153768*x^2*y^3 + 0.775995832344551*x^2*z^3 - 1.63035236152119*x^3*y^2 + 0.273422969049539*x^3*z^2 + 0.710718037686884*x^4*y + 1.523503720229*x^4*z - 0.684871642305748*y*z^4 + 1.28457652124724*y^2*z^3 + 0.698733049097655*y^3*z^2 - 0.837148903430598*y^4*z + 0.156193356591577*x*y*z^3 - 1.1510684575379*x*y^2*z^2 - 1.47178936634589*x*y^3*z - 1.1916667616427*x^2*y*z^2 + 0.688912509238773*x^2*y^2*z + 0.0508326467056956*x^3*y*z + 0.542996835205377*x^5 - 0.636565628878167*y^5 - 0.633233262591843*z^5\n",
       " 0.0219163635355772*x*y^2 - 0.552213248043367*x*z^2 + 0.641375461516397*x^2*y + 0.671826972386725*x^2*z + 1.93497331427651*y*z^2 + 0.367792173677176*y^2*z + 2.08427393613672*x*y*z - 0.115480104256742*x^3 + 0.179073908428544*y^3 + 0.253093677686837*z^3"
      ]
     },
     "execution_count": 5,
     "metadata": {},
     "output_type": "execute_result"
    }
   ],
   "source": [
    "HCMK.@var x,y,z\n",
    "\n",
    "polysyshom = HCMK.System(\n",
    "    [\n",
    "        HCMK.rand_poly(Float64,[x,y,z],5;homogeneous=true),\n",
    "        HCMK.rand_poly(Float64,[x,y,z],3;homogeneous=true)\n",
    "    ];\n",
    "    variables=[x,y,z]\n",
    "    )"
   ]
  },
  {
   "cell_type": "code",
   "execution_count": 6,
   "id": "9905e441-e0c4-41db-8ef8-c4f052d2ac1b",
   "metadata": {},
   "outputs": [
    {
     "data": {
      "text/plain": [
       "System of length 2\n",
       " 3 variables: x, y, z\n",
       "\n",
       " 0.43351500746293 + 1.43337878706424*x - 0.376302810323822*y - 0.355990010394316*z + 0.089980269900679*x*y + 2.5876470847123*x*y^2 - 1.25881809940258*x*y^3 - 0.539475863420547*x*y^4 + 0.411796906407024*x*z - 0.963443201149347*x*z^2 - 0.0714114387932003*x*z^3 - 0.536727508410117*x*z^4 - 0.0552294777652677*x^2*y - 0.301803783187646*x^2*y^2 + 0.60193729034429*x^2*y^3 + 0.473824817224993*x^2*z + 1.13605398399104*x^2*z^2 - 0.40798748410036*x^2*z^3 - 0.735436728156247*x^3*y + 0.195508122677352*x^3*y^2 + 0.914424378065439*x^3*z - 2.00172862458515*x^3*z^2 + 0.024778083858508*x^4*y - 0.726861927540838*x^4*z - 0.115940657548054*y*z + 0.00970120559797071*y*z^2 - 1.13889222727544*y*z^3 - 0.82129505706912*y*z^4 - 0.0314092376841709*y^2*z + 0.505923842829074*y^2*z^2 + 0.544129500884869*y^2*z^3 - 0.0417162130806944*y^3*z + 0.41603495158492*y^3*z^2 - 1.47789602187634*y^4*z + 0.98138050590557*x*y*z - 1.14867769582085*x*y*z^2 - 0.140202104512459*x*y*z^3 + 0.563008958943718*x*y^2*z + 2.30874345333632*x*y^2*z^2 + 1.6597798740443*x*y^3*z + 1.05421551560893*x^2*y*z + 0.418172464150801*x^2*y*z^2 - 0.507965733106973*x^2*y^2*z - 1.99342084145219*x^3*y*z + 1.53414601608259*x^2 + 1.22230340916958*x^3 - 0.922955208718973*x^4 + 1.39727015634068*x^5 + 1.07947821635785*y^2 - 1.29431039976215*y^3 - 1.08755724548651*y^4 + 0.565919449573916*y^5 - 1.67365488119618*z^2 - 1.29789720007716*z^3 + 0.29151554854615*z^4 - 0.583559090610402*z^5\n",
       " 1.03599025881626 + 0.693514179900666*x - 0.793811468906545*y + 1.24373113549418*z + 0.296522696124781*x*y - 0.379918519925279*x*y^2 - 0.162615299708651*x*z + 1.05891242490272*x*z^2 + 0.391032153948846*x^2*y - 0.97962533119027*x^2*z + 1.34160936775643*y*z - 1.60496406112667*y*z^2 - 0.490297193221909*y^2*z + 0.0513974916857894*x*y*z + 0.981178376358952*x^2 - 0.504987272314465*x^3 - 0.613595830483359*y^2 + 1.12267805719988*y^3 - 1.56795867958583*z^2 - 0.157305304040424*z^3"
      ]
     },
     "execution_count": 6,
     "metadata": {},
     "output_type": "execute_result"
    }
   ],
   "source": [
    "HCMK.@var x,y,z\n",
    "\n",
    "polysys = HCMK.System(\n",
    "    [\n",
    "        HCMK.rand_poly(Float64,[x,y,z],5),\n",
    "        HCMK.rand_poly(Float64,[x,y,z],3)\n",
    "    ];\n",
    "    variables=[x,y,z]\n",
    "    )"
   ]
  },
  {
   "cell_type": "code",
   "execution_count": 25,
   "id": "9dbff1ed-28b8-4f9e-98ab-212dae9c03f1",
   "metadata": {},
   "outputs": [
    {
     "data": {
      "text/plain": [
       "45.46313457317313"
      ]
     },
     "execution_count": 25,
     "metadata": {},
     "output_type": "execute_result"
    }
   ],
   "source": [
    "polyNorm1(polysys.expressions[1])"
   ]
  },
  {
   "cell_type": "code",
   "execution_count": 24,
   "id": "178fdb89-2a85-4f1e-8bb1-8882e97df7a1",
   "metadata": {},
   "outputs": [
    {
     "data": {
      "text/plain": [
       "45.46313457317313"
      ]
     },
     "execution_count": 24,
     "metadata": {},
     "output_type": "execute_result"
    }
   ],
   "source": [
    "sum(abs.(HCMK.coefficients(polysys.expressions[1],[x,y,z])))"
   ]
  },
  {
   "cell_type": "code",
   "execution_count": 31,
   "id": "83f8ba13-1ab4-4ee4-83bb-d7af52878fc9",
   "metadata": {},
   "outputs": [
    {
     "data": {
      "text/plain": [
       "56-element Vector{Float64}:\n",
       " 1.9523638898003137\n",
       " 0.0006139534396992547\n",
       " 0.5283282617083831\n",
       " 0.0382234260328227\n",
       " 3.973726651135954\n",
       " 4.006917486483555\n",
       " 0.3623285015070262\n",
       " 0.2580291860109042\n",
       " 0.17486820977395323\n",
       " 0.16645378718254125\n",
       " 0.29103420721334516\n",
       " 2.7548692302825057\n",
       " 5.3302963333233135\n",
       " ⋮\n",
       " 9.411339005409815e-5\n",
       " 1.6845371419681407\n",
       " 2.3536039986620896\n",
       " 0.008096448971399045\n",
       " 0.16957669212639542\n",
       " 1.1652732195911244\n",
       " 0.013442236072675097\n",
       " 2.8011206613517974\n",
       " 2.0545747472057494\n",
       " 0.1416038050576061\n",
       " 0.12672888750054556\n",
       " 0.18793526169558386"
      ]
     },
     "execution_count": 31,
     "metadata": {},
     "output_type": "execute_result"
    }
   ],
   "source": [
    "HCMK.coefficients(polysys.expressions[1],HCMK.variables(polysys.expressions[1])).^2"
   ]
  },
  {
   "cell_type": "code",
   "execution_count": null,
   "id": "3f80ce3b-933a-46f7-bf18-7333807190f5",
   "metadata": {},
   "outputs": [],
   "source": []
  },
  {
   "cell_type": "code",
   "execution_count": null,
   "id": "fe758555-5912-4a41-9caf-1ad878e96c97",
   "metadata": {},
   "outputs": [],
   "source": [
    "System(support::AbstractVector{<:AbstractMatrix{<:Integer}},\n",
    "       coefficients::AbstractVector{<:AbstractVector};\n",
    "       variables,\n",
    "       parameters = Variable[])"
   ]
  }
 ],
 "metadata": {
  "kernelspec": {
   "display_name": "Julia 1.10.2",
   "language": "julia",
   "name": "julia-1.10"
  },
  "language_info": {
   "file_extension": ".jl",
   "mimetype": "application/julia",
   "name": "julia",
   "version": "1.10.2"
  }
 },
 "nbformat": 4,
 "nbformat_minor": 5
}
