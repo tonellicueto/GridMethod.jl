{
 "cells": [
  {
   "cell_type": "code",
   "execution_count": 2,
   "id": "d36fba0b-4785-47d1-ba9f-ff9f67679b10",
   "metadata": {},
   "outputs": [
    {
     "name": "stderr",
     "output_type": "stream",
     "text": [
      "\u001b[32m\u001b[1m   Resolving\u001b[22m\u001b[39m package versions...\n",
      "\u001b[32m\u001b[1m  No Changes\u001b[22m\u001b[39m to `~/Dropbox/GitHubGalois/GridMethod.jl/Project.toml`\n",
      "\u001b[32m\u001b[1m  No Changes\u001b[22m\u001b[39m to `~/Dropbox/GitHubGalois/GridMethod.jl/Manifest.toml`\n"
     ]
    }
   ],
   "source": [
    "import Pkg\n",
    "Pkg.add(\"HomotopyContinuation\")"
   ]
  },
  {
   "cell_type": "code",
   "execution_count": 3,
   "id": "5efd359b-4392-43a8-a770-753bd99128e0",
   "metadata": {},
   "outputs": [
    {
     "data": {
      "text/plain": [
       "HomotopyContinuation.ModelKit"
      ]
     },
     "execution_count": 3,
     "metadata": {},
     "output_type": "execute_result"
    }
   ],
   "source": [
    "import HomotopyContinuation.ModelKit\n",
    "const HCMK = ModelKit"
   ]
  },
  {
   "cell_type": "code",
   "execution_count": 70,
   "id": "51bf9175-b8db-4be9-a6aa-8900f490cdf0",
   "metadata": {},
   "outputs": [
    {
     "data": {
      "text/plain": [
       "Multinomials (generic function with 1 method)"
      ]
     },
     "execution_count": 70,
     "metadata": {},
     "output_type": "execute_result"
    }
   ],
   "source": [
    "function polyNorm1(p::HCMK.Expression)\n",
    "    return sum(abs.(HCMK.coefficients(p,HCMK.variables(p))))\n",
    "end\n",
    "\n",
    "function PolyNormW(p::HCMK.Expression)\n",
    "    (M,C)=HCMK.exponents_coefficients(p,HCMK.variables(p))\n",
    "    return sqrt(sum((C.^2)./Multinomials(M)))\n",
    "end\n",
    "\n",
    "function Multinomials(M::Matrix{S}) where S<:Integer\n",
    "    return [ factorial(sum(a))/reduce(*,map(factorial,a)) for a in collect(eachcol(M))]\n",
    "end"
   ]
  },
  {
   "cell_type": "code",
   "execution_count": 5,
   "id": "818b3aec-07a6-46a4-b885-bf99f70e1ab1",
   "metadata": {},
   "outputs": [
    {
     "data": {
      "text/plain": [
       "System of length 2\n",
       " 3 variables: x, y, z\n",
       "\n",
       " 0.0409221306756849*x*y^4 + 1.6128352950413*x*z^4 - 0.959589364153768*x^2*y^3 + 0.775995832344551*x^2*z^3 - 1.63035236152119*x^3*y^2 + 0.273422969049539*x^3*z^2 + 0.710718037686884*x^4*y + 1.523503720229*x^4*z - 0.684871642305748*y*z^4 + 1.28457652124724*y^2*z^3 + 0.698733049097655*y^3*z^2 - 0.837148903430598*y^4*z + 0.156193356591577*x*y*z^3 - 1.1510684575379*x*y^2*z^2 - 1.47178936634589*x*y^3*z - 1.1916667616427*x^2*y*z^2 + 0.688912509238773*x^2*y^2*z + 0.0508326467056956*x^3*y*z + 0.542996835205377*x^5 - 0.636565628878167*y^5 - 0.633233262591843*z^5\n",
       " 0.0219163635355772*x*y^2 - 0.552213248043367*x*z^2 + 0.641375461516397*x^2*y + 0.671826972386725*x^2*z + 1.93497331427651*y*z^2 + 0.367792173677176*y^2*z + 2.08427393613672*x*y*z - 0.115480104256742*x^3 + 0.179073908428544*y^3 + 0.253093677686837*z^3"
      ]
     },
     "execution_count": 5,
     "metadata": {},
     "output_type": "execute_result"
    }
   ],
   "source": [
    "HCMK.@var x,y,z\n",
    "\n",
    "polysyshom = HCMK.System(\n",
    "    [\n",
    "        HCMK.rand_poly(Float64,[x,y,z],5;homogeneous=true),\n",
    "        HCMK.rand_poly(Float64,[x,y,z],3;homogeneous=true)\n",
    "    ];\n",
    "    variables=[x,y,z]\n",
    "    )"
   ]
  },
  {
   "cell_type": "code",
   "execution_count": 71,
   "id": "3e660833-3382-420a-92d8-cda79b32a270",
   "metadata": {},
   "outputs": [
    {
     "data": {
      "text/latex": [
       "$$ 0.0219163635355772*x*y^2 - 0.552213248043367*x*z^2 + 0.641375461516397*x^2*y + 0.671826972386725*x^2*z + 1.93497331427651*y*z^2 + 0.367792173677176*y^2*z + 2.08427393613672*x*y*z - 0.115480104256742*x^3 + 0.179073908428544*y^3 + 0.253093677686837*z^3 $$"
      ],
      "text/plain": [
       "0.0219163635355772*x*y^2 - 0.552213248043367*x*z^2 + 0.641375461516397*x^2*y + 0.671826972386725*x^2*z + 1.93497331427651*y*z^2 + 0.367792173677176*y^2*z + 2.08427393613672*x*y*z - 0.115480104256742*x^3 + 0.179073908428544*y^3 + 0.253093677686837*z^3"
      ]
     },
     "execution_count": 71,
     "metadata": {},
     "output_type": "execute_result"
    }
   ],
   "source": [
    "p=polysyshom.expressions[2]"
   ]
  },
  {
   "cell_type": "code",
   "execution_count": 72,
   "id": "f42104c1-b0ca-4e96-849c-bc69e89244f2",
   "metadata": {},
   "outputs": [
    {
     "data": {
      "text/plain": [
       "(Int32[3 2 … 0 0; 0 1 … 1 0; 0 0 … 2 3], [-0.11548010425674239, 0.6413754615163966, 0.6718269723867246, 0.02191636353557719, 2.0842739361367197, -0.5522132480433666, 0.17907390842854398, 0.3677921736771759, 1.9349733142765129, 0.25309367768683677])"
      ]
     },
     "execution_count": 72,
     "metadata": {},
     "output_type": "execute_result"
    }
   ],
   "source": [
    "(M,C)=HCMK.exponents_coefficients(p,HCMK.variables(p))"
   ]
  },
  {
   "cell_type": "code",
   "execution_count": 73,
   "id": "7d988004-6621-452f-a96a-c1f1a18cb95f",
   "metadata": {},
   "outputs": [
    {
     "data": {
      "text/plain": [
       "10-element Vector{Float64}:\n",
       " 1.0\n",
       " 3.0\n",
       " 3.0\n",
       " 3.0\n",
       " 6.0\n",
       " 3.0\n",
       " 1.0\n",
       " 3.0\n",
       " 3.0\n",
       " 1.0"
      ]
     },
     "execution_count": 73,
     "metadata": {},
     "output_type": "execute_result"
    }
   ],
   "source": [
    "Multinomials(M)"
   ]
  },
  {
   "cell_type": "code",
   "execution_count": 74,
   "id": "971fe3e8-7517-49ab-af7b-b3ebf46293b1",
   "metadata": {},
   "outputs": [
    {
     "data": {
      "text/plain": [
       "10-element Vector{Float64}:\n",
       " -0.11548010425674239\n",
       "  0.6413754615163966\n",
       "  0.6718269723867246\n",
       "  0.02191636353557719\n",
       "  2.0842739361367197\n",
       " -0.5522132480433666\n",
       "  0.17907390842854398\n",
       "  0.3677921736771759\n",
       "  1.9349733142765129\n",
       "  0.25309367768683677"
      ]
     },
     "execution_count": 74,
     "metadata": {},
     "output_type": "execute_result"
    }
   ],
   "source": [
    "C"
   ]
  },
  {
   "cell_type": "code",
   "execution_count": 75,
   "id": "5b453f6d-ada1-4398-94b6-b3a50b255d54",
   "metadata": {},
   "outputs": [
    {
     "data": {
      "text/plain": [
       "10-element Vector{Float64}:\n",
       " 0.013335654479148092\n",
       " 0.13712082754512356\n",
       " 0.15045049360877094\n",
       " 0.00016010899687452586\n",
       " 0.7240329734764758\n",
       " 0.10164649043820156\n",
       " 0.032067464679874556\n",
       " 0.04509036100606065\n",
       " 1.2480405756540776\n",
       " 0.06405640968504842"
      ]
     },
     "execution_count": 75,
     "metadata": {},
     "output_type": "execute_result"
    }
   ],
   "source": [
    "(C.^2)./Multinomials(M)"
   ]
  },
  {
   "cell_type": "code",
   "execution_count": 56,
   "id": "6a91ed3b-085d-4bca-a4bc-ffc3a77ab23b",
   "metadata": {},
   "outputs": [
    {
     "data": {
      "text/plain": [
       "(Int32[5 4 … 0 0; 0 1 … 0 0; 0 0 … 1 0], [1.397270156340682, 0.024778083858508, -0.7268619275408384, 0.19550812267735246, -1.9934208414521892, -2.0017286245851498, 0.6019372903442901, -0.5079657331069727, 0.41817246415080134, -0.4079874841003597  …  1.5341460160825924, 0.08998026990067903, 0.41179690640702415, 1.0794782163578496, -0.11594065754805385, -1.6736548811961793, 1.4333787870642392, -0.3763028103238217, -0.3559900103943165, 0.43351500746292954])"
      ]
     },
     "execution_count": 56,
     "metadata": {},
     "output_type": "execute_result"
    }
   ],
   "source": [
    "(M,C)=HCMK.exponents_coefficients(polysys.expressions[1],[x,y,z])"
   ]
  },
  {
   "cell_type": "code",
   "execution_count": null,
   "id": "fe758555-5912-4a41-9caf-1ad878e96c97",
   "metadata": {},
   "outputs": [],
   "source": [
    "System(support::AbstractVector{<:AbstractMatrix{<:Integer}},\n",
    "       coefficients::AbstractVector{<:AbstractVector};\n",
    "       variables,\n",
    "       parameters = Variable[])"
   ]
  },
  {
   "cell_type": "code",
   "execution_count": 57,
   "id": "05145229-b02a-4cbc-b9ba-27494bf0c812",
   "metadata": {},
   "outputs": [
    {
     "data": {
      "text/plain": [
       "3×56 Matrix{Int32}:\n",
       " 5  4  4  3  3  3  2  2  2  2  1  1  1  …  0  0  2  1  1  0  0  0  1  0  0  0\n",
       " 0  1  0  2  1  0  3  2  1  0  4  3  2     1  0  0  1  0  2  1  0  0  1  0  0\n",
       " 0  0  1  0  1  2  0  1  2  3  0  1  2     2  3  0  0  1  0  1  2  0  0  1  0"
      ]
     },
     "execution_count": 57,
     "metadata": {},
     "output_type": "execute_result"
    }
   ],
   "source": [
    "M"
   ]
  },
  {
   "cell_type": "code",
   "execution_count": 58,
   "id": "47df9ab5-f294-4172-a69f-40e8dcaa07a6",
   "metadata": {},
   "outputs": [
    {
     "data": {
      "text/plain": [
       "56-element Vector{Float64}:\n",
       "  1.397270156340682\n",
       "  0.024778083858508\n",
       " -0.7268619275408384\n",
       "  0.19550812267735246\n",
       " -1.9934208414521892\n",
       " -2.0017286245851498\n",
       "  0.6019372903442901\n",
       " -0.5079657331069727\n",
       "  0.41817246415080134\n",
       " -0.4079874841003597\n",
       " -0.5394758634205474\n",
       "  1.659779874044298\n",
       "  2.3087434533363194\n",
       "  ⋮\n",
       "  0.009701205597970705\n",
       " -1.2978972000771636\n",
       "  1.5341460160825924\n",
       "  0.08998026990067903\n",
       "  0.41179690640702415\n",
       "  1.0794782163578496\n",
       " -0.11594065754805385\n",
       " -1.6736548811961793\n",
       "  1.4333787870642392\n",
       " -0.3763028103238217\n",
       " -0.3559900103943165\n",
       "  0.43351500746292954"
      ]
     },
     "execution_count": 58,
     "metadata": {},
     "output_type": "execute_result"
    }
   ],
   "source": [
    "C"
   ]
  },
  {
   "cell_type": "code",
   "execution_count": null,
   "id": "e8301734-29c0-43a1-bc60-723ee8dcf7af",
   "metadata": {},
   "outputs": [],
   "source": [
    "⁠ env JULIA_NUM_THREADS=8 Julia"
   ]
  }
 ],
 "metadata": {
  "kernelspec": {
   "display_name": "Julia 1.10.2",
   "language": "julia",
   "name": "julia-1.10"
  },
  "language_info": {
   "file_extension": ".jl",
   "mimetype": "application/julia",
   "name": "julia",
   "version": "1.10.2"
  }
 },
 "nbformat": 4,
 "nbformat_minor": 5
}
